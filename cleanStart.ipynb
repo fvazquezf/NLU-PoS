{
 "cells": [
  {
   "cell_type": "code",
   "execution_count": 48,
   "id": "e892bc0a",
   "metadata": {},
   "outputs": [],
   "source": [
    "import tensorflow as tf\n",
    "from tensorflow import keras\n",
    "from tensorflow.keras.layers import Input, Embedding, Bidirectional, LSTM, TimeDistributed, Dense, TextVectorization\n",
    "from tensorflow.keras.callbacks import ModelCheckpoint\n",
    "import matplotlib.pyplot as plt\n",
    "import numpy as np"
   ]
  },
  {
   "cell_type": "code",
   "execution_count": 49,
   "id": "a78787ea",
   "metadata": {},
   "outputs": [],
   "source": [
    "def parse_conllu_grouped(file_path):\n",
    "    \"\"\"\n",
    "    Parses a CoNLL-U file and groups forms and lemmas for each sentence.\n",
    "\n",
    "    This function reads a CoNLL-U file and structures each sentence as a \n",
    "    single tuple. The tuple contains two lists: the first is a list of all \n",
    "    word forms in the sentence, and the second is a list of all their \n",
    "    corresponding lemmas.\n",
    "\n",
    "    Args:\n",
    "        file_path (str): The path to the .conllu file.\n",
    "\n",
    "    Returns:\n",
    "        list: A list of tuples. Each tuple represents a sentence and\n",
    "              is structured as ([list_of_forms], [list_of_lemmas]).\n",
    "              Returns an empty list if the file cannot be read.\n",
    "    \"\"\"\n",
    "    all_sentences_grouped = []\n",
    "    current_forms = []\n",
    "    current_lemmas = []\n",
    "    \n",
    "    try:\n",
    "        with open(file_path, 'r', encoding='utf-8') as f:\n",
    "            for line in f:\n",
    "                # A blank line signifies the end of a sentence\n",
    "                if line == '\\n':\n",
    "                    if current_forms:\n",
    "                        # ONLY append the sentence if its length is 128 or less\n",
    "                        if len(current_forms) <= 128:\n",
    "                            sentence_tuple = (current_forms, current_lemmas)\n",
    "                            all_sentences_grouped.append(sentence_tuple)\n",
    "                        \n",
    "                        # Always reset for the next sentence\n",
    "                        current_forms = []\n",
    "                        current_lemmas = []\n",
    "                    continue\n",
    "\n",
    "                # Ignore comment lines\n",
    "                if line.startswith('#'):\n",
    "                    continue\n",
    "\n",
    "                columns = line.strip().split('\\t')\n",
    "                \n",
    "                if len(columns) == 10:\n",
    "                    token_id = columns[0]\n",
    "                    # Process only single tokens, ignoring multiword/empty ones\n",
    "                    if token_id.isdigit():\n",
    "                        # Append form and lemma to their respective lists. can add more paramters from file with the desired index here\n",
    "                        current_forms.append(columns[1])\n",
    "                        current_lemmas.append(columns[3])\n",
    "\n",
    "        # Add the very last sentence if it meets the length criteria\n",
    "        if current_forms and len(current_forms) <= 128:\n",
    "            sentence_tuple = (current_forms, current_lemmas)\n",
    "            all_sentences_grouped.append(sentence_tuple)\n",
    "            \n",
    "    except FileNotFoundError:\n",
    "        print(f\"Error: The file at '{file_path}' was not found.\")\n",
    "        return []\n",
    "    except Exception as e:\n",
    "        print(f\"An error occurred: {e}\")\n",
    "        return []\n",
    "        \n",
    "    return all_sentences_grouped\n"
   ]
  },
  {
   "cell_type": "code",
   "execution_count": 50,
   "id": "d59e05c2",
   "metadata": {},
   "outputs": [
    {
     "name": "stdout",
     "output_type": "stream",
     "text": [
      "Successfully parsed the file with the new structure.\n",
      "\n",
      "--- First Sentence ---\n",
      "Forms: ['Al', '-', 'Zaman', ':', 'American', 'forces', 'killed', 'Shaikh', 'Abdullah', 'al', '-', 'Ani', ',', 'the', 'preacher', 'at', 'the', 'mosque', 'in', 'the', 'town', 'of', 'Qaim', ',', 'near', 'the', 'Syrian', 'border', '.']\n",
      "Lemmas: ['PROPN', 'PUNCT', 'PROPN', 'PUNCT', 'ADJ', 'NOUN', 'VERB', 'PROPN', 'PROPN', 'PROPN', 'PUNCT', 'PROPN', 'PUNCT', 'DET', 'NOUN', 'ADP', 'DET', 'NOUN', 'ADP', 'DET', 'NOUN', 'ADP', 'PROPN', 'PUNCT', 'ADP', 'DET', 'ADJ', 'NOUN', 'PUNCT']\n",
      "\n",
      "--- Second Sentence ---\n",
      "Forms: ['[', 'This', 'killing', 'of', 'a', 'respected', 'cleric', 'will', 'be', 'causing', 'us', 'trouble', 'for', 'years', 'to', 'come', '.', ']']\n",
      "Lemmas: ['PUNCT', 'DET', 'NOUN', 'ADP', 'DET', 'ADJ', 'NOUN', 'AUX', 'AUX', 'VERB', 'PRON', 'NOUN', 'ADP', 'NOUN', 'PART', 'VERB', 'PUNCT', 'PUNCT']\n"
     ]
    }
   ],
   "source": [
    "# --- Example Usage ---\n",
    "\n",
    "file_to_read = './UD_English-EWT-master/en_ewt-ud-train.conllu'\n",
    "parsed_data_grouped = parse_conllu_grouped(file_to_read)\n",
    "\n",
    "# Print the first two processed sentences to see the new structure\n",
    "if parsed_data_grouped:\n",
    "    print(\"Successfully parsed the file with the new structure.\")\n",
    "    \n",
    "    # The first sentence\n",
    "    print(\"\\n--- First Sentence ---\")\n",
    "    sentence_one = parsed_data_grouped[0]\n",
    "    print(f\"Forms: {sentence_one[0]}\")\n",
    "    print(f\"Lemmas: {sentence_one[1]}\")\n",
    "    \n",
    "    # The second sentence\n",
    "    print(\"\\n--- Second Sentence ---\")\n",
    "    sentence_two = parsed_data_grouped[1]\n",
    "    print(f\"Forms: {sentence_two[0]}\")\n",
    "    print(f\"Lemmas: {sentence_two[1]}\")"
   ]
  },
  {
   "cell_type": "code",
   "execution_count": 51,
   "id": "369a1834",
   "metadata": {},
   "outputs": [],
   "source": [
    "def build_model(source_vectorizer, target_vectorizer, embedding_dim=128, lstm_units=64):\n",
    "    \"\"\"\n",
    "    Builds and compiles a sequence-to-sequence Keras model with variable parameters.\n",
    "    \n",
    "    Args:\n",
    "        source_vectorizer (TextVectorization): The adapted vectorizer for input forms.\n",
    "        target_vectorizer (TextVectorization): The adapted vectorizer for target lemmas.\n",
    "        embedding_dim (int): The dimensionality of the token embeddings.\n",
    "        lstm_units (int): The number of units in the LSTM layer.\n",
    "        \n",
    "    Returns:\n",
    "        keras.Model: A compiled Keras model.\n",
    "    \"\"\"\n",
    "    SOURCE_VOCAB_SIZE = len(source_vectorizer.get_vocabulary())\n",
    "    TARGET_VOCAB_SIZE = len(target_vectorizer.get_vocabulary())\n",
    "    \n",
    "    # 1. Input Layer - expecting a 1D tensor of strings\n",
    "    inputs = Input(shape=(1,), dtype=tf.string, name=\"input_forms\")\n",
    "    \n",
    "    # 2. Vectorization and Embedding\n",
    "    x = source_vectorizer(inputs)\n",
    "    x = Embedding(\n",
    "        input_dim=SOURCE_VOCAB_SIZE, \n",
    "        output_dim=embedding_dim,\n",
    "        mask_zero=True,\n",
    "        name=\"embedding\"\n",
    "    )(x)\n",
    "    \n",
    "    # 3. Recurrent Layer\n",
    "    x = Bidirectional(LSTM(lstm_units, return_sequences=True), name=\"bidirectional_lstm\")(x)\n",
    "    \n",
    "    # 4. Output Layer\n",
    "    outputs = TimeDistributed(\n",
    "        Dense(TARGET_VOCAB_SIZE, activation=\"softmax\"),\n",
    "        name=\"output_lemmas\"\n",
    "    )(x)\n",
    "    \n",
    "    model = keras.Model(inputs, outputs)\n",
    "    \n",
    "    model.compile(\n",
    "        optimizer=\"adam\",\n",
    "        loss=\"sparse_categorical_crossentropy\",\n",
    "        metrics=[\"accuracy\"]\n",
    "    )\n",
    "    \n",
    "    return model"
   ]
  },
  {
   "cell_type": "code",
   "execution_count": 52,
   "id": "537bbab7",
   "metadata": {},
   "outputs": [],
   "source": [
    "def train_model(model, x_train, y_train, x_val, y_val, epochs=10, batch_size=32, model_path='best_model.keras'):\n",
    "    \"\"\"\n",
    "    Trains the model and saves the best version.\n",
    "    \n",
    "    Args:\n",
    "        model (keras.Model): The model to train.\n",
    "        x_train, y_train: Training data and labels.\n",
    "        x_val, y_val: Validation data and labels.\n",
    "        epochs (int): Number of training epochs.\n",
    "        batch_size (int): Size of the training batches.\n",
    "        model_path (str): Path to save the best model.\n",
    "        \n",
    "    Returns:\n",
    "        History: The training history object.\n",
    "    \"\"\"\n",
    "    print(f\"\\n--- Starting Training for {epochs} Epochs ---\")\n",
    "    \n",
    "    # Save the model with the best validation loss\n",
    "    checkpoint = ModelCheckpoint(\n",
    "        filepath=model_path,\n",
    "        save_best_only=True,\n",
    "        monitor='val_loss',\n",
    "        verbose=1\n",
    "    )\n",
    "    \n",
    "    history = model.fit(\n",
    "        x_train, y_train,\n",
    "        epochs=epochs,\n",
    "        batch_size=batch_size,\n",
    "        validation_data=(x_val, y_val),\n",
    "        callbacks=[checkpoint]\n",
    "    )\n",
    "    print(\"--- Training Finished ---\")\n",
    "    return history\n",
    "\n",
    "def evaluate_model(model_path, x_test, y_test):\n",
    "    \"\"\"\n",
    "    Loads the best saved model and evaluates it on the test set.\n",
    "    \"\"\"\n",
    "    print(f\"\\n--- Evaluating Model: {model_path} ---\")\n",
    "    # Load the best model saved by the checkpoint\n",
    "    best_model = keras.models.load_model(model_path)\n",
    "    \n",
    "    loss, accuracy = best_model.evaluate(x_test, y_test)\n",
    "    print(f\"Test Loss:     {loss:.4f}\")\n",
    "    print(f\"Test Accuracy: {accuracy:.4f}\")\n",
    "    print(\"--- Evaluation Finished ---\")\n",
    "    return loss, accuracy\n",
    "\n",
    "def plot_history(history):\n",
    "    \"\"\"\n",
    "    Plots training & validation accuracy and loss from a history object.\n",
    "    \"\"\"\n",
    "    fig, (ax1, ax2) = plt.subplots(1, 2, figsize=(12, 5))\n",
    "    \n",
    "    # Plot accuracy\n",
    "    ax1.plot(history.history['accuracy'], label='Train Accuracy')\n",
    "    ax1.plot(history.history['val_accuracy'], label='Validation Accuracy')\n",
    "    ax1.set_title('Model Accuracy')\n",
    "    ax1.set_ylabel('Accuracy')\n",
    "    ax1.set_xlabel('Epoch')\n",
    "    ax1.legend()\n",
    "    \n",
    "    # Plot loss\n",
    "    ax2.plot(history.history['loss'], label='Train Loss')\n",
    "    ax2.plot(history.history['val_loss'], label='Validation Loss')\n",
    "    ax2.set_title('Model Loss')\n",
    "    ax2.set_ylabel('Loss')\n",
    "    ax2.set_xlabel('Epoch')\n",
    "    ax2.legend()\n",
    "    \n",
    "    plt.tight_layout()\n",
    "    plt.show()"
   ]
  },
  {
   "cell_type": "code",
   "execution_count": 53,
   "id": "adc0080a",
   "metadata": {},
   "outputs": [
    {
     "name": "stdout",
     "output_type": "stream",
     "text": [
      "Loading and parsing data from separate files...\n",
      "Data parsing complete.\n"
     ]
    }
   ],
   "source": [
    "# --- 1. Define Paths and Load Data 📂 ---\n",
    "# Replace with your actual file names\n",
    "train_file = './UD_English-EWT-master/en_ewt-ud-train.conllu'\n",
    "val_file   = './UD_English-EWT-master/en_ewt-ud-dev.conllu'    # The dev set is typically used for validation\n",
    "test_file  = './UD_English-EWT-master/en_ewt-ud-test.conllu'\n",
    "\n",
    "print(\"Loading and parsing data from separate files...\")\n",
    "train_data_parsed = parse_conllu_grouped(train_file)\n",
    "val_data_parsed   = parse_conllu_grouped(val_file)\n",
    "test_data_parsed  = parse_conllu_grouped(test_file)\n",
    "print(\"Data parsing complete.\")"
   ]
  },
  {
   "cell_type": "code",
   "execution_count": 54,
   "id": "84fafaea",
   "metadata": {},
   "outputs": [
    {
     "name": "stdout",
     "output_type": "stream",
     "text": [
      "Creating and Preparing TensorFlow Datasets...\n",
      "\n",
      "Adapting vectorizers to the training data...\n",
      "Vectorizers adapted successfully.\n",
      "\n",
      "TensorFlow Datasets are ready.\n",
      "Training samples:   12542\n",
      "Validation samples: 2001\n",
      "Test samples:       2077\n"
     ]
    }
   ],
   "source": [
    "# --- 3. Prepare Datasets and Train the Model ---\n",
    "\n",
    "print(\"Creating and Preparing TensorFlow Datasets...\")\n",
    "\n",
    "# Define constants\n",
    "BATCH_SIZE = 32\n",
    "MAX_VOCAB_SIZE = 10000\n",
    "MAX_SEQUENCE_LENGTH = 128\n",
    "\n",
    "# Create vectorization layers\n",
    "source_vectorizer = TextVectorization(\n",
    "    max_tokens=MAX_VOCAB_SIZE,\n",
    "    output_sequence_length=MAX_SEQUENCE_LENGTH,\n",
    "    name=\"source_vectorizer\"\n",
    ")\n",
    "\n",
    "target_vectorizer = TextVectorization(\n",
    "    max_tokens=MAX_VOCAB_SIZE,\n",
    "    output_sequence_length=MAX_SEQUENCE_LENGTH,\n",
    "    name=\"target_vectorizer\"\n",
    ")\n",
    "\n",
    "# Prepare the text data\n",
    "train_forms = [\" \".join(item[0]) for item in train_data_parsed]\n",
    "train_lemmas = [\" \".join(item[1]) for item in train_data_parsed]\n",
    "\n",
    "val_forms = [\" \".join(item[0]) for item in val_data_parsed]\n",
    "val_lemmas = [\" \".join(item[1]) for item in val_data_parsed]\n",
    "\n",
    "test_forms = [\" \".join(item[0]) for item in test_data_parsed]\n",
    "test_lemmas = [\" \".join(item[1]) for item in test_data_parsed]\n",
    "\n",
    "# Adapt the vectorizers to the training data\n",
    "print(\"\\nAdapting vectorizers to the training data...\")\n",
    "source_vectorizer.adapt(train_forms)\n",
    "target_vectorizer.adapt(train_lemmas)\n",
    "print(\"Vectorizers adapted successfully.\")\n",
    "\n",
    "# Pre-vectorize the target lemmas\n",
    "y_train_vec = target_vectorizer(train_lemmas)\n",
    "y_val_vec = target_vectorizer(val_lemmas)\n",
    "y_test_vec = target_vectorizer(test_lemmas)\n",
    "\n",
    "# Create the TensorFlow Datasets\n",
    "train_dataset = tf.data.Dataset.from_tensor_slices((train_forms, y_train_vec))\n",
    "train_dataset = train_dataset.batch(BATCH_SIZE).prefetch(tf.data.AUTOTUNE)\n",
    "\n",
    "val_dataset = tf.data.Dataset.from_tensor_slices((val_forms, y_val_vec))\n",
    "val_dataset = val_dataset.batch(BATCH_SIZE).prefetch(tf.data.AUTOTUNE)\n",
    "\n",
    "test_dataset = tf.data.Dataset.from_tensor_slices((test_forms, y_test_vec))\n",
    "test_dataset = test_dataset.batch(BATCH_SIZE).prefetch(tf.data.AUTOTUNE)\n",
    "\n",
    "print(\"\\nTensorFlow Datasets are ready.\")\n",
    "print(f\"Training samples:   {len(train_forms)}\")\n",
    "print(f\"Validation samples: {len(val_forms)}\")\n",
    "print(f\"Test samples:       {len(test_forms)}\")\n"
   ]
  },
  {
   "cell_type": "code",
   "execution_count": 55,
   "id": "3317a323",
   "metadata": {},
   "outputs": [
    {
     "name": "stdout",
     "output_type": "stream",
     "text": [
      "\n",
      "==================== TESTING VARIANT: Small Model ====================\n"
     ]
    },
    {
     "data": {
      "text/html": [
       "<pre style=\"white-space:pre;overflow-x:auto;line-height:normal;font-family:Menlo,'DejaVu Sans Mono',consolas,'Courier New',monospace\"><span style=\"font-weight: bold\">Model: \"functional_3\"</span>\n",
       "</pre>\n"
      ],
      "text/plain": [
       "\u001b[1mModel: \"functional_3\"\u001b[0m\n"
      ]
     },
     "metadata": {},
     "output_type": "display_data"
    },
    {
     "data": {
      "text/html": [
       "<pre style=\"white-space:pre;overflow-x:auto;line-height:normal;font-family:Menlo,'DejaVu Sans Mono',consolas,'Courier New',monospace\">┏━━━━━━━━━━━━━━━━━━━━━┳━━━━━━━━━━━━━━━━━━━┳━━━━━━━━━━━━┳━━━━━━━━━━━━━━━━━━━┓\n",
       "┃<span style=\"font-weight: bold\"> Layer (type)        </span>┃<span style=\"font-weight: bold\"> Output Shape      </span>┃<span style=\"font-weight: bold\">    Param # </span>┃<span style=\"font-weight: bold\"> Connected to      </span>┃\n",
       "┡━━━━━━━━━━━━━━━━━━━━━╇━━━━━━━━━━━━━━━━━━━╇━━━━━━━━━━━━╇━━━━━━━━━━━━━━━━━━━┩\n",
       "│ input_forms         │ (<span style=\"color: #00d7ff; text-decoration-color: #00d7ff\">None</span>, <span style=\"color: #00af00; text-decoration-color: #00af00\">1</span>)         │          <span style=\"color: #00af00; text-decoration-color: #00af00\">0</span> │ -                 │\n",
       "│ (<span style=\"color: #0087ff; text-decoration-color: #0087ff\">InputLayer</span>)        │                   │            │                   │\n",
       "├─────────────────────┼───────────────────┼────────────┼───────────────────┤\n",
       "│ source_vectorizer   │ (<span style=\"color: #00d7ff; text-decoration-color: #00d7ff\">None</span>, <span style=\"color: #00af00; text-decoration-color: #00af00\">128</span>)       │          <span style=\"color: #00af00; text-decoration-color: #00af00\">0</span> │ input_forms[<span style=\"color: #00af00; text-decoration-color: #00af00\">0</span>][<span style=\"color: #00af00; text-decoration-color: #00af00\">0</span>] │\n",
       "│ (<span style=\"color: #0087ff; text-decoration-color: #0087ff\">TextVectorization</span>) │                   │            │                   │\n",
       "├─────────────────────┼───────────────────┼────────────┼───────────────────┤\n",
       "│ embedding           │ (<span style=\"color: #00d7ff; text-decoration-color: #00d7ff\">None</span>, <span style=\"color: #00af00; text-decoration-color: #00af00\">128</span>, <span style=\"color: #00af00; text-decoration-color: #00af00\">64</span>)   │    <span style=\"color: #00af00; text-decoration-color: #00af00\">640,000</span> │ source_vectorize… │\n",
       "│ (<span style=\"color: #0087ff; text-decoration-color: #0087ff\">Embedding</span>)         │                   │            │                   │\n",
       "├─────────────────────┼───────────────────┼────────────┼───────────────────┤\n",
       "│ not_equal_3         │ (<span style=\"color: #00d7ff; text-decoration-color: #00d7ff\">None</span>, <span style=\"color: #00af00; text-decoration-color: #00af00\">128</span>)       │          <span style=\"color: #00af00; text-decoration-color: #00af00\">0</span> │ source_vectorize… │\n",
       "│ (<span style=\"color: #0087ff; text-decoration-color: #0087ff\">NotEqual</span>)          │                   │            │                   │\n",
       "├─────────────────────┼───────────────────┼────────────┼───────────────────┤\n",
       "│ bidirectional_lstm  │ (<span style=\"color: #00d7ff; text-decoration-color: #00d7ff\">None</span>, <span style=\"color: #00af00; text-decoration-color: #00af00\">128</span>, <span style=\"color: #00af00; text-decoration-color: #00af00\">64</span>)   │     <span style=\"color: #00af00; text-decoration-color: #00af00\">24,832</span> │ embedding[<span style=\"color: #00af00; text-decoration-color: #00af00\">0</span>][<span style=\"color: #00af00; text-decoration-color: #00af00\">0</span>],  │\n",
       "│ (<span style=\"color: #0087ff; text-decoration-color: #0087ff\">Bidirectional</span>)     │                   │            │ not_equal_3[<span style=\"color: #00af00; text-decoration-color: #00af00\">0</span>][<span style=\"color: #00af00; text-decoration-color: #00af00\">0</span>] │\n",
       "├─────────────────────┼───────────────────┼────────────┼───────────────────┤\n",
       "│ output_lemmas       │ (<span style=\"color: #00d7ff; text-decoration-color: #00d7ff\">None</span>, <span style=\"color: #00af00; text-decoration-color: #00af00\">128</span>, <span style=\"color: #00af00; text-decoration-color: #00af00\">19</span>)   │      <span style=\"color: #00af00; text-decoration-color: #00af00\">1,235</span> │ bidirectional_ls… │\n",
       "│ (<span style=\"color: #0087ff; text-decoration-color: #0087ff\">TimeDistributed</span>)   │                   │            │ not_equal_3[<span style=\"color: #00af00; text-decoration-color: #00af00\">0</span>][<span style=\"color: #00af00; text-decoration-color: #00af00\">0</span>] │\n",
       "└─────────────────────┴───────────────────┴────────────┴───────────────────┘\n",
       "</pre>\n"
      ],
      "text/plain": [
       "┏━━━━━━━━━━━━━━━━━━━━━┳━━━━━━━━━━━━━━━━━━━┳━━━━━━━━━━━━┳━━━━━━━━━━━━━━━━━━━┓\n",
       "┃\u001b[1m \u001b[0m\u001b[1mLayer (type)       \u001b[0m\u001b[1m \u001b[0m┃\u001b[1m \u001b[0m\u001b[1mOutput Shape     \u001b[0m\u001b[1m \u001b[0m┃\u001b[1m \u001b[0m\u001b[1m   Param #\u001b[0m\u001b[1m \u001b[0m┃\u001b[1m \u001b[0m\u001b[1mConnected to     \u001b[0m\u001b[1m \u001b[0m┃\n",
       "┡━━━━━━━━━━━━━━━━━━━━━╇━━━━━━━━━━━━━━━━━━━╇━━━━━━━━━━━━╇━━━━━━━━━━━━━━━━━━━┩\n",
       "│ input_forms         │ (\u001b[38;5;45mNone\u001b[0m, \u001b[38;5;34m1\u001b[0m)         │          \u001b[38;5;34m0\u001b[0m │ -                 │\n",
       "│ (\u001b[38;5;33mInputLayer\u001b[0m)        │                   │            │                   │\n",
       "├─────────────────────┼───────────────────┼────────────┼───────────────────┤\n",
       "│ source_vectorizer   │ (\u001b[38;5;45mNone\u001b[0m, \u001b[38;5;34m128\u001b[0m)       │          \u001b[38;5;34m0\u001b[0m │ input_forms[\u001b[38;5;34m0\u001b[0m][\u001b[38;5;34m0\u001b[0m] │\n",
       "│ (\u001b[38;5;33mTextVectorization\u001b[0m) │                   │            │                   │\n",
       "├─────────────────────┼───────────────────┼────────────┼───────────────────┤\n",
       "│ embedding           │ (\u001b[38;5;45mNone\u001b[0m, \u001b[38;5;34m128\u001b[0m, \u001b[38;5;34m64\u001b[0m)   │    \u001b[38;5;34m640,000\u001b[0m │ source_vectorize… │\n",
       "│ (\u001b[38;5;33mEmbedding\u001b[0m)         │                   │            │                   │\n",
       "├─────────────────────┼───────────────────┼────────────┼───────────────────┤\n",
       "│ not_equal_3         │ (\u001b[38;5;45mNone\u001b[0m, \u001b[38;5;34m128\u001b[0m)       │          \u001b[38;5;34m0\u001b[0m │ source_vectorize… │\n",
       "│ (\u001b[38;5;33mNotEqual\u001b[0m)          │                   │            │                   │\n",
       "├─────────────────────┼───────────────────┼────────────┼───────────────────┤\n",
       "│ bidirectional_lstm  │ (\u001b[38;5;45mNone\u001b[0m, \u001b[38;5;34m128\u001b[0m, \u001b[38;5;34m64\u001b[0m)   │     \u001b[38;5;34m24,832\u001b[0m │ embedding[\u001b[38;5;34m0\u001b[0m][\u001b[38;5;34m0\u001b[0m],  │\n",
       "│ (\u001b[38;5;33mBidirectional\u001b[0m)     │                   │            │ not_equal_3[\u001b[38;5;34m0\u001b[0m][\u001b[38;5;34m0\u001b[0m] │\n",
       "├─────────────────────┼───────────────────┼────────────┼───────────────────┤\n",
       "│ output_lemmas       │ (\u001b[38;5;45mNone\u001b[0m, \u001b[38;5;34m128\u001b[0m, \u001b[38;5;34m19\u001b[0m)   │      \u001b[38;5;34m1,235\u001b[0m │ bidirectional_ls… │\n",
       "│ (\u001b[38;5;33mTimeDistributed\u001b[0m)   │                   │            │ not_equal_3[\u001b[38;5;34m0\u001b[0m][\u001b[38;5;34m0\u001b[0m] │\n",
       "└─────────────────────┴───────────────────┴────────────┴───────────────────┘\n"
      ]
     },
     "metadata": {},
     "output_type": "display_data"
    },
    {
     "data": {
      "text/html": [
       "<pre style=\"white-space:pre;overflow-x:auto;line-height:normal;font-family:Menlo,'DejaVu Sans Mono',consolas,'Courier New',monospace\"><span style=\"font-weight: bold\"> Total params: </span><span style=\"color: #00af00; text-decoration-color: #00af00\">666,067</span> (2.54 MB)\n",
       "</pre>\n"
      ],
      "text/plain": [
       "\u001b[1m Total params: \u001b[0m\u001b[38;5;34m666,067\u001b[0m (2.54 MB)\n"
      ]
     },
     "metadata": {},
     "output_type": "display_data"
    },
    {
     "data": {
      "text/html": [
       "<pre style=\"white-space:pre;overflow-x:auto;line-height:normal;font-family:Menlo,'DejaVu Sans Mono',consolas,'Courier New',monospace\"><span style=\"font-weight: bold\"> Trainable params: </span><span style=\"color: #00af00; text-decoration-color: #00af00\">666,067</span> (2.54 MB)\n",
       "</pre>\n"
      ],
      "text/plain": [
       "\u001b[1m Trainable params: \u001b[0m\u001b[38;5;34m666,067\u001b[0m (2.54 MB)\n"
      ]
     },
     "metadata": {},
     "output_type": "display_data"
    },
    {
     "data": {
      "text/html": [
       "<pre style=\"white-space:pre;overflow-x:auto;line-height:normal;font-family:Menlo,'DejaVu Sans Mono',consolas,'Courier New',monospace\"><span style=\"font-weight: bold\"> Non-trainable params: </span><span style=\"color: #00af00; text-decoration-color: #00af00\">0</span> (0.00 B)\n",
       "</pre>\n"
      ],
      "text/plain": [
       "\u001b[1m Non-trainable params: \u001b[0m\u001b[38;5;34m0\u001b[0m (0.00 B)\n"
      ]
     },
     "metadata": {},
     "output_type": "display_data"
    },
    {
     "name": "stdout",
     "output_type": "stream",
     "text": [
      "Epoch 1/5\n",
      "\u001b[1m392/392\u001b[0m \u001b[32m━━━━━━━━━━━━━━━━━━━━\u001b[0m\u001b[37m\u001b[0m \u001b[1m24s\u001b[0m 50ms/step - accuracy: 0.0432 - loss: 2.0840 - val_accuracy: 0.0437 - val_loss: 1.5790\n",
      "Epoch 2/5\n",
      "\u001b[1m392/392\u001b[0m \u001b[32m━━━━━━━━━━━━━━━━━━━━\u001b[0m\u001b[37m\u001b[0m \u001b[1m18s\u001b[0m 47ms/step - accuracy: 0.0580 - loss: 1.4963 - val_accuracy: 0.0499 - val_loss: 1.2902\n",
      "Epoch 3/5\n",
      "\u001b[1m392/392\u001b[0m \u001b[32m━━━━━━━━━━━━━━━━━━━━\u001b[0m\u001b[37m\u001b[0m \u001b[1m19s\u001b[0m 48ms/step - accuracy: 0.0645 - loss: 1.2621 - val_accuracy: 0.0507 - val_loss: 1.2124\n",
      "Epoch 4/5\n",
      "\u001b[1m392/392\u001b[0m \u001b[32m━━━━━━━━━━━━━━━━━━━━\u001b[0m\u001b[37m\u001b[0m \u001b[1m20s\u001b[0m 50ms/step - accuracy: 0.0687 - loss: 1.1217 - val_accuracy: 0.0511 - val_loss: 1.1857\n",
      "Epoch 5/5\n",
      "\u001b[1m392/392\u001b[0m \u001b[32m━━━━━━━━━━━━━━━━━━━━\u001b[0m\u001b[37m\u001b[0m \u001b[1m20s\u001b[0m 50ms/step - accuracy: 0.0723 - loss: 1.0176 - val_accuracy: 0.0511 - val_loss: 1.1866\n"
     ]
    },
    {
     "data": {
      "image/png": "[encoded data removed]",
      "text/plain": [
       "<Figure size 1200x500 with 2 Axes>"
      ]
     },
     "metadata": {},
     "output_type": "display_data"
    },
    {
     "name": "stdout",
     "output_type": "stream",
     "text": [
      "\n",
      "--- Evaluating Model: best_model.keras ---\n",
      "\u001b[1m65/65\u001b[0m \u001b[32m━━━━━━━━━━━━━━━━━━━━\u001b[0m\u001b[37m\u001b[0m \u001b[1m2s\u001b[0m 12ms/step - accuracy: 0.0487 - loss: 1.1736\n",
      "Test Loss:     1.1736\n",
      "Test Accuracy: 0.0487\n",
      "--- Evaluation Finished ---\n"
     ]
    }
   ],
   "source": [
    "\n",
    "# --- 4. Build, Train, and Evaluate the Model ---\n",
    "\n",
    "# Define model configuration\n",
    "model_config = {\"name\": \"Small Model\", \"embedding_dim\": 64, \"lstm_units\": 32}\n",
    "\n",
    "print(f\"\\n{'='*20} TESTING VARIANT: {model_config['name']} {'='*20}\")\n",
    "\n",
    "# Build the model\n",
    "model = build_model(\n",
    "    source_vectorizer,\n",
    "    target_vectorizer,\n",
    "    embedding_dim=model_config[\"embedding_dim\"],\n",
    "    lstm_units=model_config[\"lstm_units\"]\n",
    ")\n",
    "model.summary()\n",
    "\n",
    "# Train the model\n",
    "model_path = \"best_model.keras\"\n",
    "history = model.fit(\n",
    "    train_dataset,\n",
    "    epochs=5,\n",
    "    validation_data=val_dataset,\n",
    "    callbacks=[ModelCheckpoint(model_path, save_best_only=True, monitor='val_loss')]\n",
    ")\n",
    "\n",
    "# Plot the training history\n",
    "plot_history(history)\n",
    "\n",
    "# Evaluate the best model\n",
    "print(f\"\\n--- Evaluating Model: {model_path} ---\")\n",
    "best_model = keras.models.load_model(model_path)\n",
    "loss, accuracy = best_model.evaluate(test_dataset)\n",
    "print(f\"Test Loss:     {loss:.4f}\")\n",
    "print(f\"Test Accuracy: {accuracy:.4f}\")\n",
    "print(\"--- Evaluation Finished ---\")"
   ]
  }
 ],
 "metadata": {
  "kernelspec": {
   "display_name": "Python 3 (ipykernel)",
   "language": "python",
   "name": "python3"
  },
  "language_info": {
   "codemirror_mode": {
    "name": "ipython",
    "version": 3
   },
   "file_extension": ".py",
   "mimetype": "text/x-python",
   "name": "python",
   "nbconvert_exporter": "python",
   "pygments_lexer": "ipython3",
   "version": "3.12.3"
  }
 },
 "nbformat": 4,
 "nbformat_minor": 5
}
