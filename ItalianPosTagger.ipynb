{
 "cells": [
  {
   "cell_type": "markdown",
   "id": "da927875",
   "metadata": {},
   "source": [
    "# 📘 USC Master in Artificial Intelligence — 2025  \n",
    "\n",
    "This notebook corresponds to **Assignment — P1 Part-of-Speech (PoS) tagging**  for the Natural Language Understanding course of the USC Artificial Intelligence Master 2025. \n",
    "\n",
    "**Course:** Natural Language Understanding \n",
    "\n",
    "**Authors:** \n",
    " - Gian Paolo Bulleddu ([gianpaolo.bulleddu@rai.usc.es])\n",
    " - Francisco --- ([])\n",
    "-  Santiago .. ([])\n",
    "\n",
    "**Teachers** \n",
    " - Alejandro Catalá  ([alejandro.catala@usc.es])\n",
    " - Mario Izquierdo ([mario.izquierdo.alvarez@usc.es])"
   ]
  },
  {
   "cell_type": "markdown",
   "id": "7b192efa",
   "metadata": {},
   "source": [
    "# Imports"
   ]
  },
  {
   "cell_type": "code",
   "execution_count": null,
   "id": "2e920585",
   "metadata": {},
   "outputs": [],
   "source": [
    "import pickle\n",
    "from NLUutils import parse_conllu_basic, build_tokenizer, build_tag_vocab, encode_sentences, encode_tags, debug_tokenizer, debug_tags\n",
    "from posTaggerClass import PosTagger"
   ]
  },
  {
   "cell_type": "code",
   "execution_count": null,
   "id": "af7fdf20",
   "metadata": {},
   "outputs": [
    {
     "name": "stdout",
     "output_type": "stream",
     "text": [
      " Tokenizer saved to ./tokenizer_it.pkl\n",
      " tag2idx saved to ./tag2idx_it.pkl\n",
      " idx2tag saved to ./idx2tag_it.pkl\n",
      "==================== TOKENIZER DEBUG INFO  ====================\n",
      "Vocabulary size: 21016\n",
      "OOV token: [UNK]\n",
      "Number of documents: 8267\n",
      "Number of words considered (num_words): None\n",
      "\n",
      "--- Top 10 words ---\n",
      " 1. Word: '[UNK]          '  ID:    2  Count:    0  OOV: Yes\n",
      " 2. Word: 'di             '  ID:    3  Count: 15604  OOV: \n",
      " 3. Word: ',              '  ID:    4  Count: 10371  OOV: \n",
      " 4. Word: 'il             '  ID:    5  Count: 8890  OOV: \n",
      " 5. Word: '.              '  ID:    6  Count: 7531  OOV: \n",
      " 6. Word: 'la             '  ID:    7  Count: 7066  OOV: \n",
      " 7. Word: 'a              '  ID:    8  Count: 5682  OOV: \n",
      " 8. Word: 'e              '  ID:    9  Count: 4802  OOV: \n",
      " 9. Word: 'in             '  ID:   10  Count: 4518  OOV: \n",
      "10. Word: 'l'             '  ID:   11  Count: 4227  OOV: \n",
      "\n",
      "word_index (first 10): {'[UNK]': 2, 'di': 3, ',': 4, 'il': 5, '.': 6, 'la': 7, 'a': 8, 'e': 9, 'in': 10, \"l'\": 11}\n",
      "index_word (first 10): {1: '[UNK]', 2: 'di', 3: ',', 4: 'il', 5: '.', 6: 'la', 7: 'a', 8: 'e', 9: 'in', 10: \"l'\"}\n",
      "word_counts (first 10): {'pad': 1, 'unk': 1, 'le': 3377, 'infrastrutture': 13, 'come': 473, 'fattore': 6, 'di': 15604, 'competitività': 7, 'angela': 1, 'airoldi': 1}\n",
      "word_docs (first 10): {'pad': 1, 'unk': 1, 'di': 5847, 'competitività': 7, 'angela': 1, 'le': 2447, 'airoldi': 1, 'come': 432, 'infrastrutture': 13, '.': 7531}\n",
      "==================== END TOKENIZER DEBUG INFO  ====================\n",
      "==================== TAGS DEBUG INFO  ====================\n",
      "Number of tags: 18\n",
      "Tag2Idx (first 20): {'ADJ': 1, 'ADP': 2, 'ADV': 3, 'AUX': 4, 'CCONJ': 5, 'DET': 6, 'INTJ': 7, 'NOUN': 8, 'NUM': 9, 'PART': 10, 'PRON': 11, 'PROPN': 12, 'PUNCT': 13, 'SCONJ': 14, 'SYM': 15, 'VERB': 16, 'X': 17, 'PAD': 0}\n",
      "Idx2Tag (first 20): {1: 'ADJ', 2: 'ADP', 3: 'ADV', 4: 'AUX', 5: 'CCONJ', 6: 'DET', 7: 'INTJ', 8: 'NOUN', 9: 'NUM', 10: 'PART', 11: 'PRON', 12: 'PROPN', 13: 'PUNCT', 14: 'SCONJ', 15: 'SYM', 16: 'VERB', 17: 'X', 0: 'PAD'}\n",
      "Special tag 'PAD' index: 0\n",
      "\n",
      "Encoded target shape: (8266, 128)\n",
      "First sequence (indices): [ 6  8  2  8  2  8  2 12 12 13  0  0  0  0  0  0  0  0  0  0  0  0  0  0\n",
      "  0  0  0  0  0  0  0  0  0  0  0  0  0  0  0  0  0  0  0  0  0  0  0  0\n",
      "  0  0  0  0  0  0  0  0  0  0  0  0  0  0  0  0  0  0  0  0  0  0  0  0\n",
      "  0  0  0  0  0  0  0  0  0  0  0  0  0  0  0  0  0  0  0  0  0  0  0  0\n",
      "  0  0  0  0  0  0  0  0  0  0  0  0  0  0  0  0  0  0  0  0  0  0  0  0\n",
      "  0  0  0  0  0  0  0  0]\n",
      "First sequence (tags): ['DET', 'NOUN', 'ADP', 'NOUN', 'ADP', 'NOUN', 'ADP', 'PROPN', 'PROPN', 'PUNCT', 'PAD', 'PAD', 'PAD', 'PAD', 'PAD', 'PAD', 'PAD', 'PAD', 'PAD', 'PAD', 'PAD', 'PAD', 'PAD', 'PAD', 'PAD', 'PAD', 'PAD', 'PAD', 'PAD', 'PAD', 'PAD', 'PAD', 'PAD', 'PAD', 'PAD', 'PAD', 'PAD', 'PAD', 'PAD', 'PAD', 'PAD', 'PAD', 'PAD', 'PAD', 'PAD', 'PAD', 'PAD', 'PAD', 'PAD', 'PAD', 'PAD', 'PAD', 'PAD', 'PAD', 'PAD', 'PAD', 'PAD', 'PAD', 'PAD', 'PAD', 'PAD', 'PAD', 'PAD', 'PAD', 'PAD', 'PAD', 'PAD', 'PAD', 'PAD', 'PAD', 'PAD', 'PAD', 'PAD', 'PAD', 'PAD', 'PAD', 'PAD', 'PAD', 'PAD', 'PAD', 'PAD', 'PAD', 'PAD', 'PAD', 'PAD', 'PAD', 'PAD', 'PAD', 'PAD', 'PAD', 'PAD', 'PAD', 'PAD', 'PAD', 'PAD', 'PAD', 'PAD', 'PAD', 'PAD', 'PAD', 'PAD', 'PAD', 'PAD', 'PAD', 'PAD', 'PAD', 'PAD', 'PAD', 'PAD', 'PAD', 'PAD', 'PAD', 'PAD', 'PAD', 'PAD', 'PAD', 'PAD', 'PAD', 'PAD', 'PAD', 'PAD', 'PAD', 'PAD', 'PAD', 'PAD', 'PAD', 'PAD', 'PAD']\n",
      "==================== END TAGS DEBUG INFO  ====================\n"
     ]
    }
   ],
   "source": [
    "MAX_LEN = 128                       # max sentence lenght\n",
    "TOKENIZER_PATH = './tokenizer_it.pkl'  # tokenizer saving path\n",
    "TAG2IDX_PATH = './tag2idx_it.pkl'      # tag2idx saving path\n",
    "IDX2TAG_PATH = './idx2tag_it.pkl'      # idx2tag saving path\n",
    "OOV_TOKEN = \"[UNK]\"\n",
    "PAD_TOKEN = \"[PAD]\"\n",
    "\n",
    "train_file = \"./UD_Italian-VIT-master/it_vit-ud-train.conllu\"\n",
    "val_file   = \"./UD_Italian-VIT-master/it_vit-ud-dev.conllu\"\n",
    "test_file  = \"./UD_Italian-VIT-master/it_vit-ud-test.conllu\"\n",
    "\n",
    "train_sents, train_tags = parse_conllu_basic(train_file)\n",
    "val_sents, val_tags     = parse_conllu_basic(val_file)\n",
    "test_sents, test_tags   = parse_conllu_basic(test_file)\n",
    "\n",
    "tokenizer, VOCAB_SIZE = build_tokenizer(train_sents,oov_token=OOV_TOKEN, pad_token=PAD_TOKEN)\n",
    "tag2idx, idx2tag = build_tag_vocab(train_tags)\n",
    "\n",
    "with open(TOKENIZER_PATH, \"wb\") as f:\n",
    "    pickle.dump(tokenizer, f)\n",
    "print(f\" Tokenizer saved to {TOKENIZER_PATH}\")   \n",
    "\n",
    "with open(TAG2IDX_PATH, \"wb\") as f:\n",
    "    pickle.dump(tag2idx, f)\n",
    "print(f\" tag2idx saved to {TAG2IDX_PATH}\")      \n",
    "    \n",
    "with open(IDX2TAG_PATH, \"wb\") as f:\n",
    "    pickle.dump(idx2tag, f)\n",
    "print(f\" idx2tag saved to {IDX2TAG_PATH}\")    \n",
    " \n",
    "DEBUG = True   # set to True to print tokenizer attributes\n",
    "debug_tokenizer(tokenizer, debug=DEBUG)\n",
    "\n",
    "\n",
    "X_train = encode_sentences(tokenizer, train_sents, MAX_LEN)\n",
    "X_val   = encode_sentences(tokenizer, val_sents, MAX_LEN)\n",
    "X_test  = encode_sentences(tokenizer, test_sents, MAX_LEN)\n",
    "\n",
    "y_train = encode_tags(train_tags, tag2idx, MAX_LEN)\n",
    "y_val   = encode_tags(val_tags, tag2idx, MAX_LEN)\n",
    "y_test  = encode_tags(test_tags, tag2idx, MAX_LEN)\n",
    "\n",
    "\n",
    "DEBUG = True   # set to True to print tokenizer attributes\n",
    "debug_tags(tag2idx, idx2tag, y_encoded=y_train, debug=DEBUG)\n"
   ]
  },
  {
   "cell_type": "markdown",
   "id": "b40b60c1",
   "metadata": {},
   "source": [
    "# Buil/Train/Save Model"
   ]
  },
  {
   "cell_type": "code",
   "execution_count": null,
   "id": "727f64b3",
   "metadata": {},
   "outputs": [
    {
     "name": "stdout",
     "output_type": "stream",
     "text": [
      "params {'lstm_units': 128, 'embedding_dim': 128, 'batch_size': 32, 'lstm_droput': 0.1, 'learning_rate': 0.001, 'input_dim': 21017, 'epochs': 50, 'patience': 3, 'model_path': 'pos_tag_it.keras', 'tokenizer_path': './tokenizer_it.pkl', 'tag2idx_path': './tag2idx_it.pkl', 'idx2tag_path': './idx2tag_it.pkl', 'max_len': 128, 'tag_size': 18, 'vocab_size': 21017, 'num_tags': 18, 'oov': '[UNK]'}\n",
      "Model: \"model\"\n",
      "_________________________________________________________________\n",
      " Layer (type)                Output Shape              Param #   \n",
      "=================================================================\n",
      " input_1 (InputLayer)        [(None, 128)]             0         \n",
      "                                                                 \n",
      " embedding (Embedding)       (None, 128, 128)          2690176   \n",
      "                                                                 \n",
      " bidirectional (Bidirectiona  (None, 128, 256)         263168    \n",
      " l)                                                              \n",
      "                                                                 \n",
      " time_distributed (TimeDistr  (None, 128, 18)          4626      \n",
      " ibuted)                                                         \n",
      "                                                                 \n",
      "=================================================================\n",
      "Total params: 2,957,970\n",
      "Trainable params: 2,957,970\n",
      "Non-trainable params: 0\n",
      "_________________________________________________________________\n",
      "None\n",
      "Epoch 1/50\n",
      "259/259 [==============================] - 19s 50ms/step - loss: 0.2208 - masked_accuracy: 0.7018 - val_loss: 0.0897 - val_masked_accuracy: 0.9192\n",
      "Epoch 2/50\n",
      "259/259 [==============================] - 10s 40ms/step - loss: 0.0383 - masked_accuracy: 0.9522 - val_loss: 0.0603 - val_masked_accuracy: 0.9429\n",
      "Epoch 3/50\n",
      "259/259 [==============================] - 10s 40ms/step - loss: 0.0203 - masked_accuracy: 0.9738 - val_loss: 0.0589 - val_masked_accuracy: 0.9440\n",
      "Epoch 4/50\n",
      "259/259 [==============================] - 10s 40ms/step - loss: 0.0148 - masked_accuracy: 0.9800 - val_loss: 0.0599 - val_masked_accuracy: 0.9445\n",
      "Epoch 5/50\n",
      "259/259 [==============================] - 10s 40ms/step - loss: 0.0115 - masked_accuracy: 0.9843 - val_loss: 0.0627 - val_masked_accuracy: 0.9418\n",
      "Epoch 6/50\n",
      "259/259 [==============================] - 10s 40ms/step - loss: 0.0093 - masked_accuracy: 0.9872 - val_loss: 0.0633 - val_masked_accuracy: 0.9414\n",
      "save : Model saved to pos_tag_it.keras\n"
     ]
    },
    {
     "data": {
      "image/png": "[encoded data removed]",
      "text/plain": [
       "<Figure size 1200x500 with 2 Axes>"
      ]
     },
     "metadata": {},
     "output_type": "display_data"
    },
    {
     "name": "stdout",
     "output_type": "stream",
     "text": [
      "CPU times: total: 1min 41s\n",
      "Wall time: 1min 14s\n"
     ]
    }
   ],
   "source": [
    "LSTM_UNITS = 128\n",
    "EMB_DIM = 128\n",
    "BATCH_SIZE = 32\n",
    "LSTM_DROPOUT = 0.1\n",
    "LEARNING_RATE = 0.001\n",
    "EPOCHS = 50\n",
    "PATIENCE = 3\n",
    "MAX_LEN = 128\n",
    "MODEL_PATH = \"pos_tag_it.keras\"\n",
    "\n",
    "params = {\n",
    "    'lstm_units': LSTM_UNITS,\n",
    "    'embedding_dim' :EMB_DIM , \n",
    "    'batch_size': BATCH_SIZE,  \n",
    "    'lstm_droput':LSTM_DROPOUT,\n",
    "    'learning_rate':LEARNING_RATE,\n",
    "    'input_dim': len(tokenizer.word_index) + 1,\n",
    "    'epochs':EPOCHS,\n",
    "    'patience':PATIENCE,\n",
    "    'model_path':MODEL_PATH, \n",
    "    'tokenizer_path':TOKENIZER_PATH,\n",
    "    'tag2idx_path': TAG2IDX_PATH,\n",
    "    'idx2tag_path': IDX2TAG_PATH,\n",
    "    'max_len':MAX_LEN ,\n",
    "    'tag_size':len(tag2idx),\n",
    "    'vocab_size':VOCAB_SIZE,\n",
    "    'num_tags':len(tag2idx),\n",
    "    'oov':OOV_TOKEN\n",
    "}\n",
    "\n",
    "tagger = PosTagger(params)\n",
    "tagger.build_model()\n",
    "history = tagger.train(X_train, y_train, X_val, y_val)\n",
    "tagger.save()\n",
    "tagger.plot(history)\n"
   ]
  },
  {
   "cell_type": "markdown",
   "id": "1c7aa058",
   "metadata": {},
   "source": [
    "# Evaluate"
   ]
  },
  {
   "cell_type": "code",
   "execution_count": null,
   "id": "34ff6a36",
   "metadata": {},
   "outputs": [
    {
     "name": "stdout",
     "output_type": "stream",
     "text": [
      "34/34 [==============================] - 1s 19ms/step - loss: 0.0446 - masked_accuracy: 0.9300\n",
      "Test Accuracy: 0.9300\n",
      "Test Loss: 0.0446\n",
      "Test Accuracy: 0.9300\n",
      "Test Loss: 0.0446\n",
      "CPU times: total: 828 ms\n",
      "Wall time: 705 ms\n"
     ]
    }
   ],
   "source": [
    "test_loss, test_acc = tagger.evaluate(X_test, y_test, verbose=1)\n",
    "print(f\"Test Accuracy: {test_acc:.4f}\")\n",
    "print(f\"Test Loss: {test_loss:.4f}\")"
   ]
  },
  {
   "cell_type": "markdown",
   "id": "f3906ade",
   "metadata": {},
   "source": [
    "# Test Prediction"
   ]
  },
  {
   "cell_type": "code",
   "execution_count": null,
   "id": "0ee62e88",
   "metadata": {},
   "outputs": [],
   "source": [
    "tagger.load()"
   ]
  },
  {
   "cell_type": "code",
   "execution_count": null,
   "id": "28bcdef0",
   "metadata": {},
   "outputs": [
    {
     "name": "stdout",
     "output_type": "stream",
     "text": [
      "load : Model loaded from pos_tag_it.keras\n",
      "load : tokenizer loaded from ./tokenizer_it.pkl\n",
      "load :idx2tag loaded from ./idx2tag_it.pkl\n",
      "1/1 [==============================] - 2s 2s/step\n",
      "\n",
      "Predicted POS tags:\n",
      "----------------------------------------\n",
      "ciao             UNK         (conf: 0.00)\n",
      "sono             AUX         (conf: 0.98)\n",
      "qui              ADV         (conf: 0.99)\n",
      "per              ADP         (conf: 1.00)\n",
      "imparar          UNK         (conf: 0.00)\n",
      "a                ADP         (conf: 1.00)\n",
      "programmare      UNK         (conf: 0.00)\n",
      "modelli          NOUN        (conf: 0.99)\n",
      "di               ADP         (conf: 1.00)\n",
      "intelligenza     NOUN        (conf: 0.95)\n",
      "artificale       UNK         (conf: 0.00)\n",
      "----------------------------------------\n"
     ]
    }
   ],
   "source": [
    "sentence_to_tag = \"ciao sono qui per imparar a programmare modelli di intelligenza artificale\"\n",
    "tagger.predict_sentence(sentence_to_tag)"
   ]
  },
  {
   "cell_type": "code",
   "execution_count": null,
   "id": "1df0d245",
   "metadata": {},
   "outputs": [],
   "source": [
    "sentence = input()\n",
    "tagger.predict_sentence(sentence)"
   ]
  }
 ],
 "metadata": {
  "kernelspec": {
   "display_name": "tf_gpu",
   "language": "python",
   "name": "python3"
  },
  "language_info": {
   "codemirror_mode": {
    "name": "ipython",
    "version": 3
   },
   "file_extension": ".py",
   "mimetype": "text/x-python",
   "name": "python",
   "nbconvert_exporter": "python",
   "pygments_lexer": "ipython3",
   "version": "3.10.18"
  }
 },
 "nbformat": 4,
 "nbformat_minor": 5
}
